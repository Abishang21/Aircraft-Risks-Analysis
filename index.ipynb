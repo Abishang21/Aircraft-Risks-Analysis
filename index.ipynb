{
 "cells": [
  {
   "cell_type": "markdown",
   "metadata": {},
   "source": [
    "Aircraft Risk Analysis\n",
    "\n",
    "1. Project Aim\n",
    "\n",
    "The goal of this project is to identify the safest aircraft for the company to invest in the aviation industry. \n",
    "\n",
    "\n",
    "2. Key Questions to Explore \n",
    "\n",
    "→ Which aircraft makes have the highest and lowest number of injuries in accidents?\n",
    "\n",
    "→ Which aircraft models are most frequently involved in severe injury accidents?\n",
    "\n",
    "→ Is there a significant difference in accident severity between different aircraft categories?\n",
    "\n",
    "→ How does the extent of aircraft damage correlate with the number of injuries in an accident?\n",
    "\n",
    "→ How do different weather conditions impact the severity of injuries in accidents?\n",
    "\n",
    "→ Which phases of flight are most associated with severe injuries and fatalities?\n",
    "\n",
    "→ Does the status of an accident report provide insights into injury trends?\n",
    "\n",
    "→ Which airports have the most accidents with serious injuries?\n",
    "\n",
    "\n",
    "3. Approach  to Use\n",
    " \n",
    "→  **Load and explore the dataset** – Understand the structure of the data.  \n",
    "→  **Data cleaning** – Handle missing values, remove duplicates, and fix inconsistencies.  \n",
    "→  **Data analysis** – Identify trends and patterns in accident risk.  \n",
    "→  **Visualization** – Create charts and graphs to present key insights.  \n",
    "→  **Conclusion** – Summarize findings and recommend the safest aircraft for the company."
   ]
  },
  {
   "cell_type": "code",
   "execution_count": null,
   "metadata": {},
   "outputs": [],
   "source": []
  }
 ],
 "metadata": {
  "kernelspec": {
   "display_name": "Python (learn-env)",
   "language": "python",
   "name": "learn-env"
  },
  "language_info": {
   "codemirror_mode": {
    "name": "ipython",
    "version": 3
   },
   "file_extension": ".py",
   "mimetype": "text/x-python",
   "name": "python",
   "nbconvert_exporter": "python",
   "pygments_lexer": "ipython3",
   "version": "3.8.5"
  }
 },
 "nbformat": 4,
 "nbformat_minor": 4
}
